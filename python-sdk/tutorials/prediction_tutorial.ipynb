{
 "cells": [
  {
   "cell_type": "markdown",
   "metadata": {},
   "source": [
    "# nuScenes prediction tutorial\n",
    "<img src=\"trajectory.gif\" width=\"300\" align=\"left\">"
   ]
  },
  {
   "cell_type": "markdown",
   "metadata": {},
   "source": [
    "This notebook serves as an introduction to the new functionality added to the nuScenes devkit for the prediction challenge.\n",
    "\n",
    "It is organized into the following sections:\n",
    "\n",
    "1. Data splits for the challenge\n",
    "2. Getting past and future data for an agent \n",
    "3. Changes to the Map API\n",
    "4. Overview of input representation\n",
    "5. Model implementations\n",
    "6. Making a submission to the challenge"
   ]
  },
  {
   "cell_type": "code",
   "execution_count": 1,
   "metadata": {},
   "outputs": [
    {
     "name": "stdout",
     "output_type": "stream",
     "text": [
      "======\n",
      "Loading NuScenes tables for version v1.0-mini...\n",
      "Loading nuScenes-lidarseg...\n",
      "32 category,\n",
      "8 attribute,\n",
      "4 visibility,\n",
      "911 instance,\n",
      "12 sensor,\n",
      "120 calibrated_sensor,\n",
      "31206 ego_pose,\n",
      "8 log,\n",
      "10 scene,\n",
      "404 sample,\n",
      "31206 sample_data,\n",
      "18538 sample_annotation,\n",
      "4 map,\n",
      "404 lidarseg,\n",
      "Done loading in 0.365 seconds.\n",
      "======\n",
      "Reverse indexing ...\n",
      "Done reverse indexing in 0.1 seconds.\n",
      "======\n"
     ]
    }
   ],
   "source": [
    "from nuscenes import NuScenes\n",
    "\n",
    "# This is the path where you stored your copy of the nuScenes dataset.\n",
    "DATAROOT = '/data/sets/nuscenes'\n",
    "\n",
    "nuscenes = NuScenes('v1.0-mini', dataroot=DATAROOT)"
   ]
  },
  {
   "cell_type": "markdown",
   "metadata": {},
   "source": [
    "## 1. Data Splits for the Prediction Challenge\n",
    "\n",
    "This section assumes basic familiarity with the nuScenes [schema](https://www.nuscenes.org/nuscenes#data-format).\n",
    "\n",
    "The goal of the nuScenes prediction challenge is to predict the future location of agents in the nuScenes dataset. Agents are indexed by an instance token and a sample token. To get a list of agents in the train and val split of the challenge, we provide a function called `get_prediction_challenge_split`.\n",
    "\n",
    "The get_prediction_challenge_split function returns a list of strings of the form {instance_token}_{sample_token}. In the next section, we show how to use an instance token and sample token to query data for the prediction challenge."
   ]
  },
  {
   "cell_type": "code",
   "execution_count": 2,
   "metadata": {},
   "outputs": [
    {
     "data": {
      "text/plain": [
       "['bc38961ca0ac4b14ab90e547ba79fbb6_39586f9d59004284a7114a68825e8eec',\n",
       " 'bc38961ca0ac4b14ab90e547ba79fbb6_356d81f38dd9473ba590f39e266f54e5',\n",
       " 'bc38961ca0ac4b14ab90e547ba79fbb6_e0845f5322254dafadbbed75aaa07969',\n",
       " 'bc38961ca0ac4b14ab90e547ba79fbb6_c923fe08b2ff4e27975d2bf30934383b',\n",
       " 'bc38961ca0ac4b14ab90e547ba79fbb6_f1e3d9d08f044c439ce86a2d6fcca57b']"
      ]
     },
     "execution_count": 2,
     "metadata": {},
     "output_type": "execute_result"
    }
   ],
   "source": [
    "from nuscenes.eval.prediction.splits import get_prediction_challenge_split\n",
    "mini_train = get_prediction_challenge_split(\"mini_train\", dataroot=DATAROOT)\n",
    "mini_train[:5]"
   ]
  },
  {
   "cell_type": "markdown",
   "metadata": {},
   "source": [
    "## 2. Getting past and future data for an agent\n",
    "\n",
    "We provide a class called `PredictHelper` that provides methods for querying past and future data for an agent. This class is instantiated by wrapping an instance of the `NuScenes` class. "
   ]
  },
  {
   "cell_type": "code",
   "execution_count": 3,
   "metadata": {},
   "outputs": [],
   "source": [
    "from nuscenes.prediction import PredictHelper\n",
    "helper = PredictHelper(nuscenes)"
   ]
  },
  {
   "cell_type": "markdown",
   "metadata": {},
   "source": [
    "To get the data for an agent at a particular point in time, use the `get_sample_annotation` method."
   ]
  },
  {
   "cell_type": "code",
   "execution_count": 4,
   "metadata": {},
   "outputs": [
    {
     "data": {
      "text/plain": [
       "{'token': 'a286c9633fa34da5b978758f348996b0',\n",
       " 'sample_token': '39586f9d59004284a7114a68825e8eec',\n",
       " 'instance_token': 'bc38961ca0ac4b14ab90e547ba79fbb6',\n",
       " 'visibility_token': '4',\n",
       " 'attribute_tokens': ['cb5118da1ab342aa947717dc53544259'],\n",
       " 'translation': [392.945, 1148.426, 0.766],\n",
       " 'size': [1.708, 4.01, 1.631],\n",
       " 'rotation': [-0.5443682117180475, 0.0, 0.0, 0.8388463804957943],\n",
       " 'prev': '16140fbf143d4e26a4a7613cbd3aa0e8',\n",
       " 'next': 'b41e15b89fd44709b439de95dd723617',\n",
       " 'num_lidar_pts': 0,\n",
       " 'num_radar_pts': 0,\n",
       " 'category_name': 'vehicle.car'}"
      ]
     },
     "execution_count": 4,
     "metadata": {},
     "output_type": "execute_result"
    }
   ],
   "source": [
    "instance_token, sample_token = mini_train[0].split(\"_\")\n",
    "annotation = helper.get_sample_annotation(instance_token, sample_token)\n",
    "annotation"
   ]
  },
  {
   "cell_type": "markdown",
   "metadata": {},
   "source": [
    "To get the future/past of an agent, use the `get_past_for_agent`/`get_future_for_agent` methods. If the `in_agent_frame` parameter is set to true, the coordinates will be in the agent's local coordinate frame. Otherwise, they will be in the global frame."
   ]
  },
  {
   "cell_type": "code",
   "execution_count": 5,
   "metadata": {},
   "outputs": [
    {
     "data": {
      "text/plain": [
       "array([[ 0.01075063,  0.2434942 ],\n",
       "       [-0.20463666,  1.20515386],\n",
       "       [-0.20398583,  2.57851309],\n",
       "       [-0.25867757,  4.50313379],\n",
       "       [-0.31359088,  6.67620961],\n",
       "       [-0.31404147,  9.67727022]])"
      ]
     },
     "execution_count": 5,
     "metadata": {},
     "output_type": "execute_result"
    }
   ],
   "source": [
    "future_xy_local = helper.get_future_for_agent(instance_token, sample_token, seconds=3, in_agent_frame=True)\n",
    "future_xy_local"
   ]
  },
  {
   "cell_type": "markdown",
   "metadata": {},
   "source": [
    "The agent's coordinate frame is centered on the agent's current location and the agent's heading is aligned with the positive y axis. For example, the last coordinate in `future_xy_local` corresponds to a location 0.31 meters to the left and 9.67 meters in front of the agents starting location."
   ]
  },
  {
   "cell_type": "code",
   "execution_count": 6,
   "metadata": {},
   "outputs": [
    {
     "data": {
      "text/plain": [
       "array([[ 392.836, 1148.208],\n",
       "       [ 392.641, 1147.242],\n",
       "       [ 392.081, 1145.988],\n",
       "       [ 391.347, 1144.208],\n",
       "       [ 390.512, 1142.201],\n",
       "       [ 389.29 , 1139.46 ]])"
      ]
     },
     "execution_count": 6,
     "metadata": {},
     "output_type": "execute_result"
    }
   ],
   "source": [
    "future_xy_global = helper.get_future_for_agent(instance_token, sample_token, seconds=3, in_agent_frame=False)\n",
    "future_xy_global"
   ]
  },
  {
   "cell_type": "markdown",
   "metadata": {},
   "source": [
    "Note that you can also return the entire annotation record by passing `just_xy=False`. However in this case, `in_agent_frame` is not taken into account."
   ]
  },
  {
   "cell_type": "code",
   "execution_count": 7,
   "metadata": {},
   "outputs": [
    {
     "data": {
      "text/plain": [
       "[{'token': 'b41e15b89fd44709b439de95dd723617',\n",
       "  'sample_token': '356d81f38dd9473ba590f39e266f54e5',\n",
       "  'instance_token': 'bc38961ca0ac4b14ab90e547ba79fbb6',\n",
       "  'visibility_token': '4',\n",
       "  'attribute_tokens': ['cb5118da1ab342aa947717dc53544259'],\n",
       "  'translation': [392.836, 1148.208, 0.791],\n",
       "  'size': [1.708, 4.01, 1.631],\n",
       "  'rotation': [-0.5443682117180475, 0.0, 0.0, 0.8388463804957943],\n",
       "  'prev': 'a286c9633fa34da5b978758f348996b0',\n",
       "  'next': 'b2b43ef63f5242b2a4c0b794e673782d',\n",
       "  'num_lidar_pts': 10,\n",
       "  'num_radar_pts': 2,\n",
       "  'category_name': 'vehicle.car'},\n",
       " {'token': 'b2b43ef63f5242b2a4c0b794e673782d',\n",
       "  'sample_token': 'e0845f5322254dafadbbed75aaa07969',\n",
       "  'instance_token': 'bc38961ca0ac4b14ab90e547ba79fbb6',\n",
       "  'visibility_token': '4',\n",
       "  'attribute_tokens': ['cb5118da1ab342aa947717dc53544259'],\n",
       "  'translation': [392.641, 1147.242, 0.816],\n",
       "  'size': [1.708, 4.01, 1.631],\n",
       "  'rotation': [-0.5443682117180475, 0.0, 0.0, 0.8388463804957943],\n",
       "  'prev': 'b41e15b89fd44709b439de95dd723617',\n",
       "  'next': '7bcf4bc87bf143588230254034eada12',\n",
       "  'num_lidar_pts': 13,\n",
       "  'num_radar_pts': 3,\n",
       "  'category_name': 'vehicle.car'},\n",
       " {'token': '7bcf4bc87bf143588230254034eada12',\n",
       "  'sample_token': 'c923fe08b2ff4e27975d2bf30934383b',\n",
       "  'instance_token': 'bc38961ca0ac4b14ab90e547ba79fbb6',\n",
       "  'visibility_token': '4',\n",
       "  'attribute_tokens': ['cb5118da1ab342aa947717dc53544259'],\n",
       "  'translation': [392.081, 1145.988, 0.841],\n",
       "  'size': [1.708, 4.01, 1.631],\n",
       "  'rotation': [-0.5443682117180475, 0.0, 0.0, 0.8388463804957943],\n",
       "  'prev': 'b2b43ef63f5242b2a4c0b794e673782d',\n",
       "  'next': '247a25c59f914adabee9460bd8307196',\n",
       "  'num_lidar_pts': 18,\n",
       "  'num_radar_pts': 3,\n",
       "  'category_name': 'vehicle.car'},\n",
       " {'token': '247a25c59f914adabee9460bd8307196',\n",
       "  'sample_token': 'f1e3d9d08f044c439ce86a2d6fcca57b',\n",
       "  'instance_token': 'bc38961ca0ac4b14ab90e547ba79fbb6',\n",
       "  'visibility_token': '4',\n",
       "  'attribute_tokens': ['cb5118da1ab342aa947717dc53544259'],\n",
       "  'translation': [391.347, 1144.208, 0.841],\n",
       "  'size': [1.708, 4.01, 1.631],\n",
       "  'rotation': [-0.5443682117180475, 0.0, 0.0, 0.8388463804957943],\n",
       "  'prev': '7bcf4bc87bf143588230254034eada12',\n",
       "  'next': 'e25b9e7019814d53876ff2697df7a2de',\n",
       "  'num_lidar_pts': 20,\n",
       "  'num_radar_pts': 4,\n",
       "  'category_name': 'vehicle.car'},\n",
       " {'token': 'e25b9e7019814d53876ff2697df7a2de',\n",
       "  'sample_token': '4f545737bf3347fbbc9af60b0be9a963',\n",
       "  'instance_token': 'bc38961ca0ac4b14ab90e547ba79fbb6',\n",
       "  'visibility_token': '4',\n",
       "  'attribute_tokens': ['cb5118da1ab342aa947717dc53544259'],\n",
       "  'translation': [390.512, 1142.201, 0.891],\n",
       "  'size': [1.708, 4.01, 1.631],\n",
       "  'rotation': [-0.5443682117180475, 0.0, 0.0, 0.8388463804957943],\n",
       "  'prev': '247a25c59f914adabee9460bd8307196',\n",
       "  'next': 'fe33c018573e4abda3ff8de0566ee800',\n",
       "  'num_lidar_pts': 24,\n",
       "  'num_radar_pts': 2,\n",
       "  'category_name': 'vehicle.car'},\n",
       " {'token': 'fe33c018573e4abda3ff8de0566ee800',\n",
       "  'sample_token': '7626dde27d604ac28a0240bdd54eba7a',\n",
       "  'instance_token': 'bc38961ca0ac4b14ab90e547ba79fbb6',\n",
       "  'visibility_token': '4',\n",
       "  'attribute_tokens': ['cb5118da1ab342aa947717dc53544259'],\n",
       "  'translation': [389.29, 1139.46, 0.941],\n",
       "  'size': [1.708, 4.01, 1.631],\n",
       "  'rotation': [-0.5443682117180475, 0.0, 0.0, 0.8388463804957943],\n",
       "  'prev': 'e25b9e7019814d53876ff2697df7a2de',\n",
       "  'next': '2c1a8ae13d76498c838a1fb733ff8700',\n",
       "  'num_lidar_pts': 30,\n",
       "  'num_radar_pts': 2,\n",
       "  'category_name': 'vehicle.car'}]"
      ]
     },
     "execution_count": 7,
     "metadata": {},
     "output_type": "execute_result"
    }
   ],
   "source": [
    "helper.get_future_for_agent(instance_token, sample_token, seconds=3, in_agent_frame=True, just_xy=False)"
   ]
  },
  {
   "cell_type": "markdown",
   "metadata": {},
   "source": [
    "If you would like to return the data for the entire sample, as opposed to one agent in the sample, you can use the `get_annotations_for_sample` method. This will return a list of records for each annotated agent in the sample."
   ]
  },
  {
   "cell_type": "code",
   "execution_count": 8,
   "metadata": {},
   "outputs": [
    {
     "data": {
      "text/plain": [
       "78"
      ]
     },
     "execution_count": 8,
     "metadata": {},
     "output_type": "execute_result"
    }
   ],
   "source": [
    "sample = helper.get_annotations_for_sample(sample_token)\n",
    "len(sample)"
   ]
  },
  {
   "cell_type": "markdown",
   "metadata": {},
   "source": [
    "Note that there are `get_future_for_sample` and `get_past_for_sample` methods that are analogous to the `get_future_for_agent` and `get_past_for_agent` methods.\n",
    "\n",
    "We also provide methods to compute the velocity, acceleration, and heading change rate of an agent at a given point in time"
   ]
  },
  {
   "cell_type": "code",
   "execution_count": 9,
   "metadata": {},
   "outputs": [
    {
     "name": "stdout",
     "output_type": "stream",
     "text": [
      "Velocity: 4.385040264738063\n",
      "\n",
      "Acceleration: 0.30576530453207523\n",
      "\n",
      "Heading Change Rate: 0.0\n"
     ]
    }
   ],
   "source": [
    "# We get new instance and sample tokens because these methods require computing the difference between records.\n",
    "instance_token_2, sample_token_2 = mini_train[5].split(\"_\")\n",
    "\n",
    "# Meters / second.\n",
    "print(f\"Velocity: {helper.get_velocity_for_agent(instance_token_2, sample_token_2)}\\n\")\n",
    "\n",
    "# Meters / second^2.\n",
    "print(f\"Acceleration: {helper.get_acceleration_for_agent(instance_token_2, sample_token_2)}\\n\")\n",
    "\n",
    "# Radians / second.\n",
    "print(f\"Heading Change Rate: {helper.get_heading_change_rate_for_agent(instance_token_2, sample_token_2)}\")"
   ]
  },
  {
   "cell_type": "markdown",
   "metadata": {},
   "source": [
    "## Changes to the Map API\n",
    "\n",
    "We've added a couple of methods to the Map API to help query lane center line information."
   ]
  },
  {
   "cell_type": "code",
   "execution_count": 10,
   "metadata": {},
   "outputs": [],
   "source": [
    "from nuscenes.map_expansion.map_api import NuScenesMap\n",
    "nusc_map = NuScenesMap(map_name='singapore-onenorth', dataroot=DATAROOT)"
   ]
  },
  {
   "cell_type": "markdown",
   "metadata": {},
   "source": [
    "To get the closest lane to a location, use the `get_closest_lane` method. To see the internal data representation of the lane, use the `get_lane_record` method. \n",
    "You can also explore the connectivity of the lanes, with the `get_outgoing_lanes` and `get_incoming_lane` methods."
   ]
  },
  {
   "cell_type": "code",
   "execution_count": 11,
   "metadata": {},
   "outputs": [
    {
     "data": {
      "text/plain": [
       "'5933500a-f0f2-4d69-9bbc-83b875e4a73e'"
      ]
     },
     "execution_count": 11,
     "metadata": {},
     "output_type": "execute_result"
    }
   ],
   "source": [
    "x, y, yaw = 395, 1095, 0\n",
    "closest_lane = nusc_map.get_closest_lane(x, y, radius=2)\n",
    "closest_lane"
   ]
  },
  {
   "cell_type": "code",
   "execution_count": 12,
   "metadata": {},
   "outputs": [
    {
     "data": {
      "text/plain": [
       "[{'start_pose': [421.2419602954602, 1087.9127960414617, 2.739593514975998],\n",
       "  'end_pose': [391.7142849867393, 1100.464077182952, 2.7365754617298705],\n",
       "  'shape': 'LSR',\n",
       "  'radius': 999.999,\n",
       "  'segment_length': [0.23651121617864976,\n",
       "   28.593481378991886,\n",
       "   3.254561444252876]}]"
      ]
     },
     "execution_count": 12,
     "metadata": {},
     "output_type": "execute_result"
    }
   ],
   "source": [
    "lane_record = nusc_map.get_lane(closest_lane)\n",
    "lane_record"
   ]
  },
  {
   "cell_type": "code",
   "execution_count": 13,
   "metadata": {},
   "outputs": [
    {
     "data": {
      "text/plain": [
       "['f24a067b-d650-47d0-8664-039d648d7c0d']"
      ]
     },
     "execution_count": 13,
     "metadata": {},
     "output_type": "execute_result"
    }
   ],
   "source": [
    "nusc_map.get_incoming_lane_ids(closest_lane)"
   ]
  },
  {
   "cell_type": "code",
   "execution_count": 14,
   "metadata": {},
   "outputs": [
    {
     "data": {
      "text/plain": [
       "['0282d0e3-b6bf-4bcd-be24-35c9ce4c6591',\n",
       " '28d15254-0ef9-48c3-9e06-dc5a25b31127']"
      ]
     },
     "execution_count": 14,
     "metadata": {},
     "output_type": "execute_result"
    }
   ],
   "source": [
    "nusc_map.get_outgoing_lane_ids(closest_lane)"
   ]
  },
  {
   "cell_type": "markdown",
   "metadata": {},
   "source": [
    "To help manipulate the lanes, we've added an `arcline_path_utils` module. For example, something you might want to do is discretize a lane into a sequence of poses."
   ]
  },
  {
   "cell_type": "code",
   "execution_count": 15,
   "metadata": {},
   "outputs": [
    {
     "data": {
      "text/plain": [
       "[(421.2419602954602, 1087.9127960414617, 2.739593514975998),\n",
       " (420.34712994585345, 1088.2930152148274, 2.739830026428688),\n",
       " (419.45228865726136, 1088.6732086473173, 2.739830026428688),\n",
       " (418.5574473686693, 1089.0534020798073, 2.739830026428688),\n",
       " (417.66260608007724, 1089.433595512297, 2.739830026428688),\n",
       " (416.76776479148515, 1089.813788944787, 2.739830026428688),\n",
       " (415.87292350289306, 1090.1939823772768, 2.739830026428688),\n",
       " (414.97808221430097, 1090.5741758097668, 2.739830026428688),\n",
       " (414.0832409257089, 1090.9543692422567, 2.739830026428688),\n",
       " (413.1883996371168, 1091.3345626747464, 2.739830026428688),\n",
       " (412.29355834852475, 1091.7147561072363, 2.739830026428688),\n",
       " (411.39871705993266, 1092.0949495397263, 2.739830026428688),\n",
       " (410.5038757713406, 1092.4751429722162, 2.739830026428688),\n",
       " (409.6090344827485, 1092.8553364047061, 2.739830026428688),\n",
       " (408.7141931941564, 1093.2355298371958, 2.739830026428688),\n",
       " (407.81935190556436, 1093.6157232696858, 2.739830026428688),\n",
       " (406.92451061697227, 1093.9959167021757, 2.739830026428688),\n",
       " (406.0296693283802, 1094.3761101346656, 2.739830026428688),\n",
       " (405.1348280397881, 1094.7563035671556, 2.739830026428688),\n",
       " (404.239986751196, 1095.1364969996453, 2.739830026428688),\n",
       " (403.3451454626039, 1095.5166904321352, 2.739830026428688),\n",
       " (402.4503041740119, 1095.8968838646251, 2.739830026428688),\n",
       " (401.5554628854198, 1096.277077297115, 2.739830026428688),\n",
       " (400.6606215968277, 1096.657270729605, 2.739830026428688),\n",
       " (399.7657803082356, 1097.0374641620947, 2.739830026428688),\n",
       " (398.8709390196435, 1097.4176575945846, 2.739830026428688),\n",
       " (397.9760977310515, 1097.7978510270746, 2.739830026428688),\n",
       " (397.0812564424594, 1098.1780444595645, 2.739830026428688),\n",
       " (396.1864151538673, 1098.5582378920544, 2.739830026428688),\n",
       " (395.2915738652752, 1098.9384313245444, 2.739830026428688),\n",
       " (394.3967548911081, 1099.318677260896, 2.739492242286598),\n",
       " (393.5022271882191, 1099.69960782173, 2.738519982101022),\n",
       " (392.60807027168346, 1100.0814079160527, 2.737547721915446),\n",
       " (391.71428498673856, 1100.4640771829522, 2.7365754617298705)]"
      ]
     },
     "execution_count": 15,
     "metadata": {},
     "output_type": "execute_result"
    }
   ],
   "source": [
    "from nuscenes.map_expansion import arcline_path_utils\n",
    "poses = arcline_path_utils.discretize_lane(lane_record, resolution_meters=1)\n",
    "poses"
   ]
  },
  {
   "cell_type": "markdown",
   "metadata": {},
   "source": [
    "Given a query pose, you can also find the closest pose on a lane."
   ]
  },
  {
   "cell_type": "code",
   "execution_count": 16,
   "metadata": {},
   "outputs": [],
   "source": [
    "closest_pose_on_lane, distance_along_lane = arcline_path_utils.project_pose_to_lane((x, y, yaw), lane_record)"
   ]
  },
  {
   "cell_type": "code",
   "execution_count": 17,
   "metadata": {},
   "outputs": [
    {
     "name": "stdout",
     "output_type": "stream",
     "text": [
      "395 1095 0\n"
     ]
    },
    {
     "data": {
      "text/plain": [
       "(396.25524909914367, 1098.5289922434013, 2.739830026428688)"
      ]
     },
     "execution_count": 17,
     "metadata": {},
     "output_type": "execute_result"
    }
   ],
   "source": [
    "print(x, y, yaw)\n",
    "closest_pose_on_lane"
   ]
  },
  {
   "cell_type": "code",
   "execution_count": 18,
   "metadata": {},
   "outputs": [
    {
     "data": {
      "text/plain": [
       "27.5"
      ]
     },
     "execution_count": 18,
     "metadata": {},
     "output_type": "execute_result"
    }
   ],
   "source": [
    "# Meters.\n",
    "distance_along_lane"
   ]
  },
  {
   "cell_type": "markdown",
   "metadata": {},
   "source": [
    "To find the entire length of the lane, you can use the `length_of_lane` function."
   ]
  },
  {
   "cell_type": "code",
   "execution_count": 19,
   "metadata": {},
   "outputs": [
    {
     "data": {
      "text/plain": [
       "32.08455403942341"
      ]
     },
     "execution_count": 19,
     "metadata": {},
     "output_type": "execute_result"
    }
   ],
   "source": [
    "arcline_path_utils.length_of_lane(lane_record)"
   ]
  },
  {
   "cell_type": "markdown",
   "metadata": {},
   "source": [
    "You can also compute the curvature of a lane at a given distance along the lane."
   ]
  },
  {
   "cell_type": "code",
   "execution_count": 20,
   "metadata": {},
   "outputs": [
    {
     "data": {
      "text/plain": [
       "0"
      ]
     },
     "execution_count": 20,
     "metadata": {},
     "output_type": "execute_result"
    }
   ],
   "source": [
    "# 0 means it is a straight lane.\n",
    "arcline_path_utils.get_curvature_at_distance_along_lane(distance_along_lane, lane_record)"
   ]
  },
  {
   "cell_type": "markdown",
   "metadata": {},
   "source": [
    "## 4. Input Representation\n",
    "\n",
    "It is common in the prediction literature to represent the state of an agent as a tensor containing information about the semantic map (such as the drivable area and walkways), as well the past locations of surrounding agents.\n",
    "\n",
    "Each paper in the field chooses to represent the input in a slightly different way. For example, [CoverNet](https://arxiv.org/pdf/1911.10298.pdf) and [MTP](https://arxiv.org/pdf/1808.05819.pdf) choose to rasterize the map information and agent locations into a three channel RGB image. But [Rules of the Road](http://openaccess.thecvf.com/content_CVPR_2019/papers/Hong_Rules_of_the_Road_Predicting_Driving_Behavior_With_a_Convolutional_CVPR_2019_paper.pdf) decides to use a \"taller\" tensor with information represented in different channels.\n",
    "\n",
    "We provide a module called `input_representation` that is meant to make it easy for you to define your own input representation. In short, you need to define your own `StaticLayerRepresentation`, `AgentRepresentation`, and `Combinator`.\n",
    "\n",
    "The `StaticLayerRepresentation` controls how the static map information is represented. The `AgentRepresentation` controls how the locations of the agents in the scene are represented. The `Combinator` controls how these two sources of information are combined into a single tensor.\n",
    "\n",
    "For more information, consult `input_representation/interface.py`.\n",
    "\n",
    "To help get you started, we've provided implementations of input representation used in CoverNet and MTP."
   ]
  },
  {
   "cell_type": "code",
   "execution_count": 21,
   "metadata": {},
   "outputs": [
    {
     "data": {
      "text/plain": [
       "<matplotlib.image.AxesImage at 0x7f96cf06acd0>"
      ]
     },
     "execution_count": 21,
     "metadata": {},
     "output_type": "execute_result"
    },
    {
     "data": {
      "image/png": "[encoded data removed]",
      "text/plain": [
       "<Figure size 432x288 with 1 Axes>"
      ]
     },
     "metadata": {
      "needs_background": "light"
     },
     "output_type": "display_data"
    }
   ],
   "source": [
    "import matplotlib.pyplot as plt\n",
    "%matplotlib inline\n",
    "\n",
    "from nuscenes.prediction.input_representation.static_layers import StaticLayerRasterizer\n",
    "from nuscenes.prediction.input_representation.agents import AgentBoxesWithFadedHistory\n",
    "from nuscenes.prediction.input_representation.interface import InputRepresentation\n",
    "from nuscenes.prediction.input_representation.combinators import Rasterizer\n",
    "\n",
    "static_layer_rasterizer = StaticLayerRasterizer(helper)\n",
    "agent_rasterizer = AgentBoxesWithFadedHistory(helper, seconds_of_history=1)\n",
    "mtp_input_representation = InputRepresentation(static_layer_rasterizer, agent_rasterizer, Rasterizer())\n",
    "\n",
    "instance_token_img, sample_token_img = 'bc38961ca0ac4b14ab90e547ba79fbb6', '7626dde27d604ac28a0240bdd54eba7a'\n",
    "anns = [ann for ann in nuscenes.sample_annotation if ann['instance_token'] == instance_token_img]\n",
    "img = mtp_input_representation.make_input_representation(instance_token_img, sample_token_img)\n",
    "\n",
    "plt.imshow(img)"
   ]
  },
  {
   "cell_type": "markdown",
   "metadata": {},
   "source": [
    "## Model Implementations\n",
    "\n",
    "We've provided PyTorch implementations for CoverNet and MTP. Below we show, how to make predictions on the previously created input representation."
   ]
  },
  {
   "cell_type": "code",
   "execution_count": 22,
   "metadata": {},
   "outputs": [],
   "source": [
    "from nuscenes.prediction.models.backbone import ResNetBackbone\n",
    "from nuscenes.prediction.models.mtp import MTP\n",
    "from nuscenes.prediction.models.covernet import CoverNet\n",
    "import torch"
   ]
  },
  {
   "cell_type": "markdown",
   "metadata": {},
   "source": [
    "Both models take a CNN backbone as a parameter. We've provided wrappers for ResNet and MobileNet v2. In this example, we'll use ResNet50."
   ]
  },
  {
   "cell_type": "code",
   "execution_count": 23,
   "metadata": {},
   "outputs": [],
   "source": [
    "backbone = ResNetBackbone('resnet50')\n",
    "mtp = MTP(backbone, num_modes=2)\n",
    "\n",
    "# Note that the value of num_modes depends on the size of the lattice used for CoverNet.\n",
    "covernet = CoverNet(backbone, num_modes=64)"
   ]
  },
  {
   "cell_type": "markdown",
   "metadata": {},
   "source": [
    "The second input is a tensor containing the velocity, acceleration, and heading change rate for the agent."
   ]
  },
  {
   "cell_type": "code",
   "execution_count": 24,
   "metadata": {},
   "outputs": [],
   "source": [
    "agent_state_vector = torch.Tensor([[helper.get_velocity_for_agent(instance_token_img, sample_token_img),\n",
    "                                    helper.get_acceleration_for_agent(instance_token_img, sample_token_img),\n",
    "                                    helper.get_heading_change_rate_for_agent(instance_token_img, sample_token_img)]])"
   ]
  },
  {
   "cell_type": "code",
   "execution_count": 25,
   "metadata": {},
   "outputs": [],
   "source": [
    "image_tensor = torch.Tensor(img).permute(2, 0, 1).unsqueeze(0)"
   ]
  },
  {
   "cell_type": "code",
   "execution_count": 26,
   "metadata": {},
   "outputs": [
    {
     "data": {
      "text/plain": [
       "tensor([[ 0.4839,  0.0944,  0.3460,  0.3384,  0.2737,  0.0826,  0.0553,  0.6067,\n",
       "         -0.3861, -0.1224,  0.2972,  0.1663, -0.0052,  0.1951,  0.0379, -0.4311,\n",
       "         -0.0968,  0.0072, -0.1539, -0.0251,  0.0557, -0.1463,  0.0608,  0.5879,\n",
       "          0.0323,  0.5285, -0.7789, -0.3915, -0.1293, -0.2928,  0.9087,  0.1868,\n",
       "          0.3437, -0.7392, -0.0741,  0.1211,  0.3565, -0.6262, -0.2251,  0.2054,\n",
       "         -0.4049, -0.0972,  0.0707,  0.0077, -0.1150, -0.0028, -0.5042,  0.1046,\n",
       "         -0.0161, -0.0428]], grad_fn=<CatBackward>)"
      ]
     },
     "execution_count": 26,
     "metadata": {},
     "output_type": "execute_result"
    }
   ],
   "source": [
    "# Output has 50 entries.\n",
    "# The first 24 are x,y coordinates (in the agent frame) over the next 6 seconds at 2 Hz for the first mode.\n",
    "# The second 24 are the x,y coordinates for the second mode.\n",
    "# The last 2 are the logits of the mode probabilities\n",
    "mtp(image_tensor, agent_state_vector)"
   ]
  },
  {
   "cell_type": "code",
   "execution_count": 27,
   "metadata": {},
   "outputs": [
    {
     "name": "stdout",
     "output_type": "stream",
     "text": [
      "tensor([[ 0.2389,  0.0762, -0.2946, -0.1539,  0.1344, -0.1617,  0.1858,  0.3436,\n",
      "         -0.2182,  0.2768, -0.2110,  0.4687, -0.1216,  0.2953, -0.0632,  0.4549,\n",
      "          0.1188,  0.3894,  0.1003, -0.3558,  0.3494, -0.6580, -0.3267,  0.3371,\n",
      "         -0.2052, -0.0848, -0.0737, -0.3038, -0.2854, -0.2493,  0.3163, -0.3109,\n",
      "         -0.4432,  0.2070,  0.3575,  0.2349, -0.1563, -0.0755,  0.0773,  0.3021,\n",
      "          0.4280, -0.2927, -0.5366,  0.0690,  0.3658,  0.1188, -0.2077, -0.2085,\n",
      "          0.4574,  0.6331,  0.1192,  0.0566, -0.2119, -0.3563, -0.8957, -0.0793,\n",
      "         -0.6749, -0.2598, -0.6100,  0.0388,  0.3853,  0.0765, -0.0026,  0.0628]],\n",
      "       grad_fn=<AddmmBackward>)\n"
     ]
    }
   ],
   "source": [
    "# CoverNet outputs a probability distribution over the trajectory set.\n",
    "# These are the logits of the probabilities\n",
    "logits = covernet(image_tensor, agent_state_vector)\n",
    "print(logits)"
   ]
  },
  {
   "cell_type": "markdown",
   "metadata": {},
   "source": [
    "The CoverNet model outputs a probability distribution over a set of trajectories. To be able to interpret the predictions, and perform inference with CoverNet, you need to download the trajectory sets from the nuscenes website. Download them from this [link](https://www.nuscenes.org/public/nuscenes-prediction-challenge-trajectory-sets.zip) and unzip them in a directory of your choice.\n",
    "\n",
    "Uncomment the following code when you do so:"
   ]
  },
  {
   "cell_type": "code",
   "execution_count": null,
   "metadata": {},
   "outputs": [],
   "source": [
    "#import pickle\n",
    "\n",
    "# Epsilon is the amount of coverage in the set, \n",
    "# i.e. a real world trajectory is at most 8 meters from a trajectory in this set\n",
    "# We released the set for epsilon = 2, 4, 8. Consult the paper for more information\n",
    "# on how this set was created\n",
    "\n",
    "#PATH_TO_EPSILON_8_SET = \"\"\n",
    "#trajectories = pickle.load(open(PATH_TO_EPSILON_8_SET, 'rb'))\n",
    "\n",
    "# Saved them as a list of lists\n",
    "#trajectories = torch.Tensor(trajectories)\n",
    "\n",
    "# Print 5 most likely predictions\n",
    "#trajectories[logits.argsort(descending=True)[:5]]"
   ]
  },
  {
   "cell_type": "markdown",
   "metadata": {},
   "source": [
    "We also provide two physics-based models - A constant velocity and heading model and a physics oracle. The physics oracle estimates the future trajectory of the agent with several physics based models and chooses the one that is closest to the ground truth. It represents the best performance a purely physics based model could achieve on the dataset."
   ]
  },
  {
   "cell_type": "code",
   "execution_count": 28,
   "metadata": {},
   "outputs": [],
   "source": [
    "from nuscenes.prediction.models.physics import ConstantVelocityHeading, PhysicsOracle\n",
    "\n",
    "cv_model = ConstantVelocityHeading(sec_from_now=6, helper=helper)\n",
    "physics_oracle = PhysicsOracle(sec_from_now=6, helper=helper)"
   ]
  },
  {
   "cell_type": "markdown",
   "metadata": {},
   "source": [
    "The physics models can be called as functions. They take as input a string of the instance and sample token of the agent concatenated with an underscore (\"_\").\n",
    "\n",
    "The output is a `Prediction` data type. The `Prediction` data type stores the predicted trajectories and their associated probabilities for the agent. We'll go over the `Prediction` type in greater detail in the next section."
   ]
  },
  {
   "cell_type": "code",
   "execution_count": 29,
   "metadata": {},
   "outputs": [
    {
     "data": {
      "text/plain": [
       "Prediction(instance=bc38961ca0ac4b14ab90e547ba79fbb6, sample=7626dde27d604ac28a0240bdd54eba7a, prediction=[[[ 388.17909232 1136.96919062]\n",
       "  [ 387.06818463 1134.47838124]\n",
       "  [ 385.95727695 1131.98757186]\n",
       "  [ 384.84636926 1129.49676248]\n",
       "  [ 383.73546158 1127.0059531 ]\n",
       "  [ 382.6245539  1124.51514372]\n",
       "  [ 381.51364621 1122.02433435]\n",
       "  [ 380.40273853 1119.53352497]\n",
       "  [ 379.29183084 1117.04271559]\n",
       "  [ 378.18092316 1114.55190621]\n",
       "  [ 377.07001548 1112.06109683]\n",
       "  [ 375.95910779 1109.57028745]]], probabilities=[1])"
      ]
     },
     "execution_count": 29,
     "metadata": {},
     "output_type": "execute_result"
    }
   ],
   "source": [
    "cv_model(f\"{instance_token_img}_{sample_token_img}\")"
   ]
  },
  {
   "cell_type": "code",
   "execution_count": 30,
   "metadata": {},
   "outputs": [
    {
     "data": {
      "text/plain": [
       "Prediction(instance=bc38961ca0ac4b14ab90e547ba79fbb6, sample=7626dde27d604ac28a0240bdd54eba7a, prediction=[[[ 388.17909232 1136.96919062]\n",
       "  [ 387.06818463 1134.47838124]\n",
       "  [ 385.95727695 1131.98757186]\n",
       "  [ 384.84636926 1129.49676248]\n",
       "  [ 383.73546158 1127.0059531 ]\n",
       "  [ 382.6245539  1124.51514372]\n",
       "  [ 381.51364621 1122.02433435]\n",
       "  [ 380.40273853 1119.53352497]\n",
       "  [ 379.29183084 1117.04271559]\n",
       "  [ 378.18092316 1114.55190621]\n",
       "  [ 377.07001548 1112.06109683]\n",
       "  [ 375.95910779 1109.57028745]]], probabilities=[1])"
      ]
     },
     "execution_count": 30,
     "metadata": {},
     "output_type": "execute_result"
    }
   ],
   "source": [
    "physics_oracle(f\"{instance_token_img}_{sample_token_img}\")"
   ]
  },
  {
   "cell_type": "markdown",
   "metadata": {},
   "source": [
    "## 6. Making a submission to the challenge\n",
    "\n",
    "Participants must submit a zipped json file containing serialized `Predictions` for each agent in the validation set.\n",
    "\n",
    "The previous section introduced the `Prediction` data type. In this section, we explain the format in greater detail. \n",
    "\n",
    "A `Prediction` consists of four fields:\n",
    "\n",
    "1. instance: The instance token for the agent.\n",
    "2. sample: The sample token for the agent.\n",
    "3. prediction: Prediction from model. A prediction can consist of up to 25 proposed trajectories. This field must be a numpy array with three dimensions (number of trajectories (also called modes), number of timesteps, 2).\n",
    "4. probabilities: The probability corresponding to each predicted mode. This is a numpy array with shape `(number_of_modes,)`.\n",
    "\n",
    "You will get an error if any of these conditions are violated."
   ]
  },
  {
   "cell_type": "code",
   "execution_count": 31,
   "metadata": {},
   "outputs": [],
   "source": [
    "from nuscenes.eval.prediction.data_classes import Prediction\n",
    "import numpy as np"
   ]
  },
  {
   "cell_type": "code",
   "execution_count": null,
   "metadata": {},
   "outputs": [],
   "source": [
    "# This would raise an error because instance is not a string.\n",
    "\n",
    "#Prediction(instance=1, sample=sample_token_img,\n",
    "#           prediction=np.ones((1, 12, 2)), probabilities=np.array([1]))"
   ]
  },
  {
   "cell_type": "code",
   "execution_count": null,
   "metadata": {},
   "outputs": [],
   "source": [
    "# This would raise an error because sample is not a string.\n",
    "\n",
    "#Prediction(instance=instance_token_img, sample=2,\n",
    "#           prediction=np.ones((1, 12, 2)), probabilities=np.array([1]))"
   ]
  },
  {
   "cell_type": "code",
   "execution_count": null,
   "metadata": {},
   "outputs": [],
   "source": [
    "# This would raise an error because prediction is not a numpy array.\n",
    "\n",
    "#Prediction(instance=instance_token_img, sample=sample_token_img,\n",
    "#           prediction=np.ones((1, 12, 2)).tolist(), probabilities=np.array([1]))"
   ]
  },
  {
   "cell_type": "code",
   "execution_count": null,
   "metadata": {},
   "outputs": [],
   "source": [
    "# This would throw an error because probabilities is not a numpy array. Uncomment to see.\n",
    "\n",
    "#Prediction(instance=instance_token_img, sample=sample_token_img,\n",
    "#           prediction=np.ones((1, 12, 2)), probabilities=[0.3])"
   ]
  },
  {
   "cell_type": "code",
   "execution_count": null,
   "metadata": {},
   "outputs": [],
   "source": [
    "# This would throw an error because there are more than 25 predicted modes. Uncomment to see.\n",
    "\n",
    "#Prediction(instance=instance_token_img, sample=sample_token_img,\n",
    "#           prediction=np.ones((30, 12, 2)), probabilities=np.array([1/30]*30))"
   ]
  },
  {
   "cell_type": "code",
   "execution_count": null,
   "metadata": {},
   "outputs": [],
   "source": [
    "# This would throw an error because the number of predictions and probabilities don't match. Uncomment to see.\n",
    "\n",
    "#Prediction(instance=instance_token_img, sample=sample_token_img,\n",
    "           #prediction=np.ones((13, 12, 2)), probabilities=np.array([1/12]*12))"
   ]
  },
  {
   "cell_type": "markdown",
   "metadata": {},
   "source": [
    "To make a submission to the challenge, store your model predictions in a python list and save it to json. Then, upload a zipped version of your file to the eval server. \n",
    "\n",
    "For an example, see `eval/prediction/baseline_model_inference.py`"
   ]
  }
 ],
 "metadata": {
  "kernelspec": {
   "display_name": "Python 3",
   "language": "python",
   "name": "python3"
  },
  "language_info": {
   "codemirror_mode": {
    "name": "ipython",
    "version": 3
   },
   "file_extension": ".py",
   "mimetype": "text/x-python",
   "name": "python",
   "nbconvert_exporter": "python",
   "pygments_lexer": "ipython3",
   "version": "3.7.7"
  }
 },
 "nbformat": 4,
 "nbformat_minor": 4
}
